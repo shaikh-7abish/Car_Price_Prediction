{
 "cells": [
  {
   "cell_type": "code",
   "execution_count": 1,
   "id": "56ddf1dd",
   "metadata": {},
   "outputs": [],
   "source": [
    "import numpy as np\n",
    "import pandas as pd\n",
    "import pickle\n",
    "\n",
    "model = pickle.load(open('models/model.pkl', 'rb'))\n",
    "\n",
    "data = pd.read_csv('data/cleaned_car_price.csv')\n",
    "\n",
    "def classified(manufacturer,column):\n",
    "    value = data[data['Manufacturer'] == manufacturer][column].unique()\n",
    "    return value"
   ]
  },
  {
   "cell_type": "code",
   "execution_count": null,
   "id": "464cb581",
   "metadata": {},
   "outputs": [
    {
     "name": "stderr",
     "output_type": "stream",
     "text": [
      " * Running on http://localhost:9000/ (Press CTRL+C to quit)\n",
      "127.0.0.1 - - [25/May/2023 15:00:02] \"GET / HTTP/1.1\" 200 -\n",
      "127.0.0.1 - - [25/May/2023 15:00:04] \"POST /home HTTP/1.1\" 200 -\n",
      "C:\\Users\\Golden\\anaconda3\\lib\\site-packages\\sklearn\\base.py:450: UserWarning: X does not have valid feature names, but OneHotEncoder was fitted with feature names\n",
      "  warnings.warn(\n",
      "127.0.0.1 - - [25/May/2023 15:00:26] \"POST /result HTTP/1.1\" 200 -\n"
     ]
    }
   ],
   "source": [
    "from werkzeug.wrappers import Request, Response\n",
    "from flask import Flask, render_template, request, redirect, url_for, jsonify, session\n",
    "import json\n",
    "\n",
    "app = Flask(__name__)\n",
    "app.secret_key = \"super secret key\"\n",
    "\n",
    "@app.route('/')\n",
    "def main():\n",
    "    manufacturers = list(data['Manufacturer'].unique())\n",
    "    return render_template('main.html',manufacturers = manufacturers)\n",
    "\n",
    "@app.route(\"/home\", methods = ['POST'])\n",
    "def home():\n",
    "    manufacturer = request.form.get('manufacturer')\n",
    "    session['my_var'] = manufacturer\n",
    "    categories = classified(manufacturer, 'Category')\n",
    "    prod = classified(manufacturer, 'Prod. year')\n",
    "    cylinders = classified(manufacturer, 'Cylinders')\n",
    "    colors = classified(manufacturer, 'Color')\n",
    "    airbags = classified(manufacturer, 'Airbags')\n",
    "    return render_template('index.html', prod=prod, categories=categories, cylinders=cylinders, colors=colors, airbags=airbags)\n",
    "    return manufacturer\n",
    "\n",
    "@app.route('/result', methods = ['POST'])\n",
    "def result():\n",
    "    manufacturer = session.get('my_var', None)\n",
    "    \n",
    "    levy = request.form.get('levy')\n",
    "    prod = request.form.get('prod')\n",
    "    category = request.form.get('category')\n",
    "    leather = request.form.get('leather')\n",
    "    fuel = request.form.get('fuel')\n",
    "    engine = request.form.get('volume')\n",
    "    mileage = request.form.get('mileage')\n",
    "    cylinder = request.form.get('cylinder')\n",
    "    gear = request.form.get('gear')\n",
    "    drive = request.form.get('Drive')\n",
    "    door = request.form.get('Doors')\n",
    "    wheel = request.form.get('Wheel')\n",
    "    color = request.form.get('color')\n",
    "    airbags = request.form.get('airbag')\n",
    "    turbo = 0\n",
    "    \n",
    "    data = [levy,manufacturer,prod,category,leather,fuel,engine,mileage,cylinder,gear,drive,door,wheel,color,airbags,turbo]\n",
    "    result = np.array(data).reshape(1,-1)\n",
    "    prediction = model.predict(result)\n",
    "    prediction = np.exp(prediction)\n",
    "    prediction = int(prediction)\n",
    "    \n",
    "    if prediction == 0:\n",
    "        return 'Error'\n",
    "    else :\n",
    "        return render_template('result.html',prediction = prediction)\n",
    "\n",
    "if __name__ == '__main__':\n",
    "    from werkzeug.serving import run_simple\n",
    "    run_simple('localhost', 9000, app)"
   ]
  },
  {
   "cell_type": "code",
   "execution_count": null,
   "id": "8c2e750a",
   "metadata": {},
   "outputs": [],
   "source": []
  }
 ],
 "metadata": {
  "kernelspec": {
   "display_name": "Python 3 (ipykernel)",
   "language": "python",
   "name": "python3"
  },
  "language_info": {
   "codemirror_mode": {
    "name": "ipython",
    "version": 3
   },
   "file_extension": ".py",
   "mimetype": "text/x-python",
   "name": "python",
   "nbconvert_exporter": "python",
   "pygments_lexer": "ipython3",
   "version": "3.9.13"
  }
 },
 "nbformat": 4,
 "nbformat_minor": 5
}
